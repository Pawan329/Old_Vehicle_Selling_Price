{
 "cells": [
  {
   "cell_type": "code",
   "execution_count": 2,
   "metadata": {},
   "outputs": [],
   "source": [
    "import pandas as pd"
   ]
  },
  {
   "cell_type": "code",
   "execution_count": 3,
   "metadata": {},
   "outputs": [
    {
     "data": {
      "text/plain": [
       "(1000, 12)"
      ]
     },
     "execution_count": 3,
     "metadata": {},
     "output_type": "execute_result"
    }
   ],
   "source": [
    "data = pd.read_csv('Data.csv')\n",
    "data.shape"
   ]
  },
  {
   "cell_type": "code",
   "execution_count": 4,
   "metadata": {},
   "outputs": [
    {
     "data": {
      "text/html": [
       "<div>\n",
       "<style scoped>\n",
       "    .dataframe tbody tr th:only-of-type {\n",
       "        vertical-align: middle;\n",
       "    }\n",
       "\n",
       "    .dataframe tbody tr th {\n",
       "        vertical-align: top;\n",
       "    }\n",
       "\n",
       "    .dataframe thead th {\n",
       "        text-align: right;\n",
       "    }\n",
       "</style>\n",
       "<table border=\"1\" class=\"dataframe\">\n",
       "  <thead>\n",
       "    <tr style=\"text-align: right;\">\n",
       "      <th></th>\n",
       "      <th>v.id</th>\n",
       "      <th>on road old</th>\n",
       "      <th>on road now</th>\n",
       "      <th>years</th>\n",
       "      <th>km</th>\n",
       "      <th>rating</th>\n",
       "      <th>condition</th>\n",
       "      <th>economy</th>\n",
       "      <th>top speed</th>\n",
       "      <th>hp</th>\n",
       "      <th>torque</th>\n",
       "      <th>current price</th>\n",
       "    </tr>\n",
       "  </thead>\n",
       "  <tbody>\n",
       "    <tr>\n",
       "      <th>0</th>\n",
       "      <td>1</td>\n",
       "      <td>535651</td>\n",
       "      <td>798186</td>\n",
       "      <td>3</td>\n",
       "      <td>78945</td>\n",
       "      <td>1</td>\n",
       "      <td>2</td>\n",
       "      <td>14</td>\n",
       "      <td>177</td>\n",
       "      <td>73</td>\n",
       "      <td>123</td>\n",
       "      <td>351318.0</td>\n",
       "    </tr>\n",
       "    <tr>\n",
       "      <th>1</th>\n",
       "      <td>2</td>\n",
       "      <td>591911</td>\n",
       "      <td>861056</td>\n",
       "      <td>6</td>\n",
       "      <td>117220</td>\n",
       "      <td>5</td>\n",
       "      <td>9</td>\n",
       "      <td>9</td>\n",
       "      <td>148</td>\n",
       "      <td>74</td>\n",
       "      <td>95</td>\n",
       "      <td>285001.5</td>\n",
       "    </tr>\n",
       "    <tr>\n",
       "      <th>2</th>\n",
       "      <td>3</td>\n",
       "      <td>686990</td>\n",
       "      <td>770762</td>\n",
       "      <td>2</td>\n",
       "      <td>132538</td>\n",
       "      <td>2</td>\n",
       "      <td>8</td>\n",
       "      <td>15</td>\n",
       "      <td>181</td>\n",
       "      <td>53</td>\n",
       "      <td>97</td>\n",
       "      <td>215386.0</td>\n",
       "    </tr>\n",
       "    <tr>\n",
       "      <th>3</th>\n",
       "      <td>4</td>\n",
       "      <td>573999</td>\n",
       "      <td>722381</td>\n",
       "      <td>4</td>\n",
       "      <td>101065</td>\n",
       "      <td>4</td>\n",
       "      <td>3</td>\n",
       "      <td>11</td>\n",
       "      <td>197</td>\n",
       "      <td>54</td>\n",
       "      <td>116</td>\n",
       "      <td>244295.5</td>\n",
       "    </tr>\n",
       "    <tr>\n",
       "      <th>4</th>\n",
       "      <td>5</td>\n",
       "      <td>691388</td>\n",
       "      <td>811335</td>\n",
       "      <td>6</td>\n",
       "      <td>61559</td>\n",
       "      <td>3</td>\n",
       "      <td>9</td>\n",
       "      <td>12</td>\n",
       "      <td>160</td>\n",
       "      <td>53</td>\n",
       "      <td>105</td>\n",
       "      <td>531114.5</td>\n",
       "    </tr>\n",
       "  </tbody>\n",
       "</table>\n",
       "</div>"
      ],
      "text/plain": [
       "   v.id  on road old  on road now  years     km   rating  condition  economy  \\\n",
       "0     1       535651       798186      3   78945       1          2       14   \n",
       "1     2       591911       861056      6  117220       5          9        9   \n",
       "2     3       686990       770762      2  132538       2          8       15   \n",
       "3     4       573999       722381      4  101065       4          3       11   \n",
       "4     5       691388       811335      6   61559       3          9       12   \n",
       "\n",
       "   top speed  hp  torque  current price  \n",
       "0        177  73     123       351318.0  \n",
       "1        148  74      95       285001.5  \n",
       "2        181  53      97       215386.0  \n",
       "3        197  54     116       244295.5  \n",
       "4        160  53     105       531114.5  "
      ]
     },
     "execution_count": 4,
     "metadata": {},
     "output_type": "execute_result"
    }
   ],
   "source": [
    "data.head()"
   ]
  },
  {
   "cell_type": "code",
   "execution_count": 5,
   "metadata": {},
   "outputs": [],
   "source": [
    "data = data.drop('v.id', axis=1, inplace=False)"
   ]
  },
  {
   "cell_type": "code",
   "execution_count": 6,
   "metadata": {},
   "outputs": [
    {
     "data": {
      "text/html": [
       "<div>\n",
       "<style scoped>\n",
       "    .dataframe tbody tr th:only-of-type {\n",
       "        vertical-align: middle;\n",
       "    }\n",
       "\n",
       "    .dataframe tbody tr th {\n",
       "        vertical-align: top;\n",
       "    }\n",
       "\n",
       "    .dataframe thead th {\n",
       "        text-align: right;\n",
       "    }\n",
       "</style>\n",
       "<table border=\"1\" class=\"dataframe\">\n",
       "  <thead>\n",
       "    <tr style=\"text-align: right;\">\n",
       "      <th></th>\n",
       "      <th>on road old</th>\n",
       "      <th>on road now</th>\n",
       "      <th>years</th>\n",
       "      <th>km</th>\n",
       "      <th>rating</th>\n",
       "      <th>condition</th>\n",
       "      <th>economy</th>\n",
       "      <th>top speed</th>\n",
       "      <th>hp</th>\n",
       "      <th>torque</th>\n",
       "      <th>current price</th>\n",
       "    </tr>\n",
       "  </thead>\n",
       "  <tbody>\n",
       "    <tr>\n",
       "      <th>0</th>\n",
       "      <td>535651</td>\n",
       "      <td>798186</td>\n",
       "      <td>3</td>\n",
       "      <td>78945</td>\n",
       "      <td>1</td>\n",
       "      <td>2</td>\n",
       "      <td>14</td>\n",
       "      <td>177</td>\n",
       "      <td>73</td>\n",
       "      <td>123</td>\n",
       "      <td>351318.0</td>\n",
       "    </tr>\n",
       "    <tr>\n",
       "      <th>1</th>\n",
       "      <td>591911</td>\n",
       "      <td>861056</td>\n",
       "      <td>6</td>\n",
       "      <td>117220</td>\n",
       "      <td>5</td>\n",
       "      <td>9</td>\n",
       "      <td>9</td>\n",
       "      <td>148</td>\n",
       "      <td>74</td>\n",
       "      <td>95</td>\n",
       "      <td>285001.5</td>\n",
       "    </tr>\n",
       "    <tr>\n",
       "      <th>2</th>\n",
       "      <td>686990</td>\n",
       "      <td>770762</td>\n",
       "      <td>2</td>\n",
       "      <td>132538</td>\n",
       "      <td>2</td>\n",
       "      <td>8</td>\n",
       "      <td>15</td>\n",
       "      <td>181</td>\n",
       "      <td>53</td>\n",
       "      <td>97</td>\n",
       "      <td>215386.0</td>\n",
       "    </tr>\n",
       "    <tr>\n",
       "      <th>3</th>\n",
       "      <td>573999</td>\n",
       "      <td>722381</td>\n",
       "      <td>4</td>\n",
       "      <td>101065</td>\n",
       "      <td>4</td>\n",
       "      <td>3</td>\n",
       "      <td>11</td>\n",
       "      <td>197</td>\n",
       "      <td>54</td>\n",
       "      <td>116</td>\n",
       "      <td>244295.5</td>\n",
       "    </tr>\n",
       "    <tr>\n",
       "      <th>4</th>\n",
       "      <td>691388</td>\n",
       "      <td>811335</td>\n",
       "      <td>6</td>\n",
       "      <td>61559</td>\n",
       "      <td>3</td>\n",
       "      <td>9</td>\n",
       "      <td>12</td>\n",
       "      <td>160</td>\n",
       "      <td>53</td>\n",
       "      <td>105</td>\n",
       "      <td>531114.5</td>\n",
       "    </tr>\n",
       "  </tbody>\n",
       "</table>\n",
       "</div>"
      ],
      "text/plain": [
       "   on road old  on road now  years     km   rating  condition  economy  \\\n",
       "0       535651       798186      3   78945       1          2       14   \n",
       "1       591911       861056      6  117220       5          9        9   \n",
       "2       686990       770762      2  132538       2          8       15   \n",
       "3       573999       722381      4  101065       4          3       11   \n",
       "4       691388       811335      6   61559       3          9       12   \n",
       "\n",
       "   top speed  hp  torque  current price  \n",
       "0        177  73     123       351318.0  \n",
       "1        148  74      95       285001.5  \n",
       "2        181  53      97       215386.0  \n",
       "3        197  54     116       244295.5  \n",
       "4        160  53     105       531114.5  "
      ]
     },
     "execution_count": 6,
     "metadata": {},
     "output_type": "execute_result"
    }
   ],
   "source": [
    "data.head()"
   ]
  },
  {
   "cell_type": "code",
   "execution_count": 7,
   "metadata": {},
   "outputs": [],
   "source": [
    "from sklearn.preprocessing import MinMaxScaler"
   ]
  },
  {
   "cell_type": "code",
   "execution_count": 8,
   "metadata": {},
   "outputs": [],
   "source": [
    "scaler = MinMaxScaler()"
   ]
  },
  {
   "cell_type": "code",
   "execution_count": 9,
   "metadata": {},
   "outputs": [],
   "source": [
    "X = data.drop('current price', axis=1, inplace=False).values\n",
    "y = data['current price'].values"
   ]
  },
  {
   "cell_type": "code",
   "execution_count": 10,
   "metadata": {},
   "outputs": [
    {
     "data": {
      "text/plain": [
       "array([[535651, 798186,      3,  78945,      1,      2,     14,    177,\n",
       "            73,    123],\n",
       "       [591911, 861056,      6, 117220,      5,      9,      9,    148,\n",
       "            74,     95]], dtype=int64)"
      ]
     },
     "execution_count": 10,
     "metadata": {},
     "output_type": "execute_result"
    }
   ],
   "source": [
    "X[:2]"
   ]
  },
  {
   "cell_type": "code",
   "execution_count": 11,
   "metadata": {},
   "outputs": [
    {
     "data": {
      "text/plain": [
       "array([351318. , 285001.5])"
      ]
     },
     "execution_count": 11,
     "metadata": {},
     "output_type": "execute_result"
    }
   ],
   "source": [
    "y[:2]"
   ]
  },
  {
   "cell_type": "code",
   "execution_count": 12,
   "metadata": {},
   "outputs": [],
   "source": [
    "data_scaled = scaler.fit_transform(X)"
   ]
  },
  {
   "cell_type": "code",
   "execution_count": 13,
   "metadata": {},
   "outputs": [
    {
     "data": {
      "text/plain": [
       "array([[0.1772899 , 0.49138298, 0.2       , 0.28742292, 0.        ,\n",
       "        0.11111111, 0.85714286, 0.64615385, 0.32857143, 0.76388889],\n",
       "       [0.4591621 , 0.80608072, 0.8       , 0.67179497, 1.        ,\n",
       "        0.88888889, 0.14285714, 0.2       , 0.34285714, 0.375     ],\n",
       "       [0.93552411, 0.35411129, 0.        , 0.82562413, 0.25      ,\n",
       "        0.77777778, 1.        , 0.70769231, 0.04285714, 0.40277778],\n",
       "       [0.36941992, 0.11193869, 0.4       , 0.50956034, 0.75      ,\n",
       "        0.22222222, 0.42857143, 0.95384615, 0.05714286, 0.66666667],\n",
       "       [0.95755884, 0.55720071, 0.8       , 0.11282613, 0.5       ,\n",
       "        0.88888889, 0.57142857, 0.38461538, 0.04285714, 0.51388889]])"
      ]
     },
     "execution_count": 13,
     "metadata": {},
     "output_type": "execute_result"
    }
   ],
   "source": [
    "data_scaled[:5]"
   ]
  },
  {
   "cell_type": "code",
   "execution_count": 14,
   "metadata": {},
   "outputs": [],
   "source": [
    "from sklearn.linear_model import LinearRegression\n",
    "from sklearn.model_selection import train_test_split"
   ]
  },
  {
   "cell_type": "code",
   "execution_count": 15,
   "metadata": {},
   "outputs": [],
   "source": [
    "X_train, X_test, y_train, y_test = train_test_split(X, y, test_size=0.3)"
   ]
  },
  {
   "cell_type": "code",
   "execution_count": 16,
   "metadata": {},
   "outputs": [],
   "source": [
    "lr = LinearRegression()"
   ]
  },
  {
   "cell_type": "code",
   "execution_count": 17,
   "metadata": {},
   "outputs": [
    {
     "name": "stdout",
     "output_type": "stream",
     "text": [
      "(700, 10)\n",
      "(700,)\n",
      "(300, 10)\n",
      "(300,)\n"
     ]
    }
   ],
   "source": [
    "print(X_train.shape)\n",
    "print(y_train.shape)\n",
    "print(X_test.shape)\n",
    "print(y_test.shape)\n"
   ]
  },
  {
   "cell_type": "code",
   "execution_count": 18,
   "metadata": {},
   "outputs": [],
   "source": [
    "model = lr.fit(X_train, y_train)"
   ]
  },
  {
   "cell_type": "code",
   "execution_count": 19,
   "metadata": {},
   "outputs": [],
   "source": [
    "y_pred = model.predict(X_test)"
   ]
  },
  {
   "cell_type": "code",
   "execution_count": 20,
   "metadata": {},
   "outputs": [],
   "source": [
    "from sklearn.metrics import mean_squared_error, mean_absolute_percentage_error, root_mean_squared_error, r2_score"
   ]
  },
  {
   "cell_type": "code",
   "execution_count": 21,
   "metadata": {},
   "outputs": [
    {
     "name": "stdout",
     "output_type": "stream",
     "text": [
      "MSE\n",
      "71615707.31506878\n"
     ]
    }
   ],
   "source": [
    "print(\"MSE\")\n",
    "print(mean_squared_error(y_pred, y_test))"
   ]
  },
  {
   "cell_type": "code",
   "execution_count": 22,
   "metadata": {},
   "outputs": [
    {
     "name": "stdout",
     "output_type": "stream",
     "text": [
      "RMSE\n",
      "8462.606413810629\n"
     ]
    }
   ],
   "source": [
    "print(\"RMSE\")\n",
    "print(root_mean_squared_error(y_pred, y_test))"
   ]
  },
  {
   "cell_type": "code",
   "execution_count": 23,
   "metadata": {},
   "outputs": [
    {
     "name": "stdout",
     "output_type": "stream",
     "text": [
      "MAPE\n",
      "2.9187310966021824\n"
     ]
    }
   ],
   "source": [
    "print(\"MAPE\")\n",
    "print(mean_absolute_percentage_error(y_pred, y_test) * 100)"
   ]
  },
  {
   "cell_type": "code",
   "execution_count": 24,
   "metadata": {},
   "outputs": [
    {
     "name": "stdout",
     "output_type": "stream",
     "text": [
      "R-Square\n",
      "0.9955332715568663\n"
     ]
    }
   ],
   "source": [
    "print(\"R-Square\")\n",
    "print(r2_score(y_pred, y_test))"
   ]
  },
  {
   "cell_type": "code",
   "execution_count": 25,
   "metadata": {},
   "outputs": [
    {
     "name": "stdout",
     "output_type": "stream",
     "text": [
      "on road old        int64\n",
      "on road now        int64\n",
      "years              int64\n",
      "km                 int64\n",
      "rating             int64\n",
      "condition          int64\n",
      "economy            int64\n",
      "top speed          int64\n",
      "hp                 int64\n",
      "torque             int64\n",
      "current price    float64\n",
      "dtype: object\n"
     ]
    }
   ],
   "source": [
    "print(data.dtypes)"
   ]
  },
  {
   "cell_type": "code",
   "execution_count": null,
   "metadata": {},
   "outputs": [],
   "source": []
  }
 ],
 "metadata": {
  "kernelspec": {
   "display_name": "Python 3",
   "language": "python",
   "name": "python3"
  },
  "language_info": {
   "codemirror_mode": {
    "name": "ipython",
    "version": 3
   },
   "file_extension": ".py",
   "mimetype": "text/x-python",
   "name": "python",
   "nbconvert_exporter": "python",
   "pygments_lexer": "ipython3",
   "version": "3.11.9"
  }
 },
 "nbformat": 4,
 "nbformat_minor": 2
}
